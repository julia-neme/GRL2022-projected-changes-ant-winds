{
 "cells": [
  {
   "cell_type": "code",
   "execution_count": 2,
   "id": "3d72f162-e1e7-4627-8eb2-dcb19440a7d6",
   "metadata": {},
   "outputs": [],
   "source": [
    "# import modules\n",
    "from glob import glob\n",
    "import os,sys\n",
    "import numpy as np\n",
    "import xarray as xr\n",
    "import netCDF4 as nc\n",
    "import matplotlib.pyplot as plt\n",
    "#from mpl_toolkits.basemap import Basemap\n",
    "import cartopy.crs as ccrs\n",
    "import matplotlib.colors as col\n",
    "import matplotlib.cm as cm\n",
    "import matplotlib.colorbar as cb\n",
    "import cv2"
   ]
  },
  {
   "cell_type": "markdown",
   "id": "089fe36a-f3ef-4b91-b7eb-aeeb6de317d8",
   "metadata": {},
   "source": [
    "My code:"
   ]
  },
  {
   "cell_type": "code",
   "execution_count": 103,
   "id": "7e447182-87bc-4343-b9e6-59a2a819eb79",
   "metadata": {},
   "outputs": [],
   "source": [
    "# cut at Southern Ocean boundary and define contour depth:\n",
    "lat_north = -59.\n",
    "contour_depth = 1500"
   ]
  },
  {
   "cell_type": "code",
   "execution_count": 104,
   "id": "7f5fddf1-6226-40d7-974c-d673ae38e82c",
   "metadata": {},
   "outputs": [
    {
     "name": "stdout",
     "output_type": "stream",
     "text": [
      "/g/data/ik11/outputs/access-om2-01/01deg_jra55v13_ryf9091/output000/ocean/ocean_grid.nc\n"
     ]
    }
   ],
   "source": [
    "model_dir = '/g/data/ik11/outputs/access-om2-01/01deg_jra55v13_ryf9091/'\n",
    "gridFileList = sorted(glob(os.path.join(model_dir, 'output*/ocean/ocean_grid.nc')))\n",
    "grid_file = gridFileList[0]\n",
    "print(grid_file)"
   ]
  },
  {
   "cell_type": "code",
   "execution_count": 105,
   "id": "d1a00825-b8e7-49cd-a9b8-8be5775e4c42",
   "metadata": {},
   "outputs": [
    {
     "name": "stdout",
     "output_type": "stream",
     "text": [
      "Finding depth contour\n"
     ]
    }
   ],
   "source": [
    "gridFile = nc.Dataset(grid_file)\n",
    "xu_ocean = gridFile.variables['xu_ocean'][...]\n",
    "yu_ocean = gridFile.variables['yu_ocean'][...]\n",
    "\n",
    "#restrict to south of Southern Ocean cut-off\n",
    "north_index = (np.abs(yu_ocean-lat_north)).argmin()\n",
    "yu_ocean = yu_ocean[:north_index]\n",
    "yu_ocean.shape\n",
    "lon_c = gridFile.variables['geolon_c'][:north_index,:]\n",
    "lat_c = gridFile.variables['geolat_c'][:north_index,:]\n",
    "hu = gridFile.variables['hu'][:north_index,:]\n",
    "land_mask = np.copy(hu)\n",
    "land_mask[np.where(hu>30)] = 0  # Q to follow up: Why 30 and not NAN?\n",
    "land_mask[np.where(hu<30)] = 1\n",
    "\n",
    "print('Finding depth contour')"
   ]
  },
  {
   "cell_type": "code",
   "execution_count": 120,
   "id": "f025c03b-9163-40bb-8c3b-39ed03f7c606",
   "metadata": {},
   "outputs": [
    {
     "name": "stdout",
     "output_type": "stream",
     "text": [
      "(509, 3600) 0.0 1.0\n"
     ]
    }
   ],
   "source": [
    "temp_mask = np.copy(hu)\n",
    "temp_mask[np.where(hu>contour_depth)] = 0\n",
    "temp_mask[np.where(hu<=contour_depth)] = 1\n",
    "\n",
    "# this spreads the isobath contour so all points are connected adjacently (not just \n",
    "# diagonally):\n",
    "kernel = np.ones((3,3),np.uint8)\n",
    "contour_mask0 = cv2.dilate(temp_mask,kernel,iterations=1) - temp_mask\n",
    "print(contour_mask0.shape, contour_mask0.min(), contour_mask0.max())"
   ]
  },
  {
   "cell_type": "code",
   "execution_count": 121,
   "id": "27d86905-7b1d-461f-8d03-94cb4d7ebf0e",
   "metadata": {},
   "outputs": [],
   "source": [
    "# start at western edge of domain, at y point closest to correct depth contour:\n",
    "contour_mask = np.zeros_like(land_mask)\n",
    "contour_lat_index_start = np.where(contour_mask0[:,0]>0)[0][0]\n",
    "contour_mask[contour_lat_index_start,0] = 1"
   ]
  },
  {
   "cell_type": "code",
   "execution_count": 123,
   "id": "7ce1811f-861b-48eb-96f1-4dc19634b6a9",
   "metadata": {},
   "outputs": [],
   "source": [
    "# loop through to find adjacent point closest to 1000m depth (not inc previous point):\n",
    "last_index_i = 0\n",
    "last_index_j = contour_lat_index_start\n",
    "count = 0\n",
    "while last_index_i<3599:\n",
    "    # first time don't go backwards:\n",
    "    if last_index_i == 0:\n",
    "        points_to_compare = np.array([contour_mask0[last_index_j,last_index_i+1],\n",
    "                                      0,\n",
    "                                      contour_mask0[last_index_j+1,last_index_i],\n",
    "                                      contour_mask0[last_index_j-1,last_index_i]])\n",
    "    else:\n",
    "        points_to_compare = np.array([contour_mask0[last_index_j,last_index_i+1],\n",
    "                                     contour_mask0[last_index_j,last_index_i-1],\n",
    "                                     contour_mask0[last_index_j+1,last_index_i],\n",
    "                                     contour_mask0[last_index_j-1,last_index_i]])\n",
    "\n",
    "    new_loc = np.where(points_to_compare==1)[0]\n",
    "\n",
    "    # this gives each point along contour a unique index number:\n",
    "    if len(new_loc)==0:\n",
    "        contour_mask[last_index_j,last_index_i] = 0\n",
    "        contour_mask0[last_index_j,last_index_i] = 0\n",
    "        #contour_mask0[contour_mask==count] = 0\n",
    "        #print('j'+str(last_index_j)+'i'+str(last_index_i))\n",
    "        count = count - 1\n",
    "        last_index_i = np.where(contour_mask==count+1)[1]\n",
    "        last_index_j = np.where(contour_mask==count+1)[0]\n",
    "        continue\n",
    "    elif len(new_loc)>0:\n",
    "        if new_loc[0] == 0:\n",
    "            new_index_i = last_index_i+1\n",
    "            new_index_j = last_index_j\n",
    "        elif new_loc[0] == 1:\n",
    "            new_index_i = last_index_i-1\n",
    "            new_index_j = last_index_j\n",
    "        elif new_loc[0] == 2:\n",
    "            new_index_i = last_index_i\n",
    "            new_index_j = last_index_j+1\n",
    "        elif new_loc[0] == 3:\n",
    "            new_index_i = last_index_i\n",
    "            new_index_j = last_index_j-1\n",
    "        contour_mask[new_index_j,new_index_i] = count + 2\n",
    "        contour_mask0[last_index_j,last_index_i] = 2\n",
    "        last_index_j = new_index_j\n",
    "        last_index_i = new_index_i\n",
    "        count += 1"
   ]
  },
  {
   "cell_type": "code",
   "execution_count": 124,
   "id": "c35321d4-6333-4976-8eed-4d5f0af0bf55",
   "metadata": {},
   "outputs": [
    {
     "data": {
      "text/plain": [
       "<matplotlib.collections.QuadMesh at 0x14c8a87ee400>"
      ]
     },
     "execution_count": 124,
     "metadata": {},
     "output_type": "execute_result"
    },
    {
     "data": {
      "image/png": "[encoded data removed]",
      "text/plain": [
       "<Figure size 972x648 with 2 Axes>"
      ]
     },
     "metadata": {
      "needs_background": "light"
     },
     "output_type": "display_data"
    }
   ],
   "source": [
    "contour_mask0.shape\n",
    "a = xr.DataArray(contour_mask)\n",
    "a.plot(size= 9, vmin=0, vmax=1)"
   ]
  },
  {
   "cell_type": "code",
   "execution_count": 125,
   "id": "0856d148-0eb1-41ab-b612-eaba17cb1cd8",
   "metadata": {},
   "outputs": [],
   "source": [
    "contour_mask_numbered = contour_mask"
   ]
  },
  {
   "cell_type": "code",
   "execution_count": 126,
   "id": "edbcf733-cd61-4281-962d-080472df616e",
   "metadata": {},
   "outputs": [],
   "source": [
    "contour_masked_above = np.copy(contour_mask_numbered)\n",
    "#contour_masked_above[-1,0] = -100"
   ]
  },
  {
   "cell_type": "code",
   "execution_count": 127,
   "id": "ebaef801-6b49-4463-b037-1c67552b98a4",
   "metadata": {},
   "outputs": [
    {
     "name": "stdout",
     "output_type": "stream",
     "text": [
      "Floodfilling above contour\n"
     ]
    }
   ],
   "source": [
    "######################\n",
    "# fill in points to north of contour:\n",
    "print('Floodfilling above contour')\n",
    "\n",
    "contour_masked_above = np.copy(contour_mask_numbered)\n",
    "contour_masked_above[-1,0] = -100\n",
    "\n",
    "# from top left:\n",
    "for ii in range(len(xu_ocean)-1):\n",
    "    for jj in range(len(yu_ocean))[::-1][:-1]:\n",
    "        if contour_masked_above[jj,ii] == -100:\n",
    "            if contour_masked_above[jj-1,ii] == 0:\n",
    "                contour_masked_above[jj-1,ii] = -100\n",
    "            if contour_masked_above[jj,ii+1] == 0:\n",
    "                contour_masked_above[jj,ii+1] = -100\n",
    "            if contour_masked_above[jj-1,ii+1] == 0:\n",
    "                contour_masked_above[jj-1,ii+1] = -100\n",
    "# from top right:\n",
    "for ii in range(len(xu_ocean))[::-1][:-1]:\n",
    "    for jj in range(len(yu_ocean))[::-1][:-1]:\n",
    "        if contour_masked_above[jj,ii] == -100:\n",
    "            if contour_masked_above[jj-1,ii] == 0:\n",
    "                contour_masked_above[jj-1,ii] = -100\n",
    "            if contour_masked_above[jj,ii-1] == 0:\n",
    "                contour_masked_above[jj,ii-1] = -100\n",
    "            if contour_masked_above[jj-1,ii-1] == 0:\n",
    "                contour_masked_above[jj-1,ii-1] = -100\n",
    "# from bottom right:\n",
    "for ii in range(len(xu_ocean))[::-1][:-1]:\n",
    "    for jj in range(len(yu_ocean)-1):\n",
    "        if contour_masked_above[jj,ii] == -100:\n",
    "            if contour_masked_above[jj+1,ii] == 0:\n",
    "                contour_masked_above[jj+1,ii] = -100\n",
    "            if contour_masked_above[jj,ii-1] == 0:\n",
    "                contour_masked_above[jj,ii-1] = -100\n",
    "            if contour_masked_above[jj+1,ii-1] == 0:\n",
    "                contour_masked_above[jj+1,ii-1] = -100\n",
    "# from bottom left:\n",
    "for ii in range(len(xu_ocean)-1):\n",
    "    for jj in range(len(yu_ocean)-1):\n",
    "        if contour_masked_above[jj,ii] == -100:\n",
    "            if contour_masked_above[jj+1,ii] == 0:\n",
    "                contour_masked_above[jj+1,ii] = -100\n",
    "            if contour_masked_above[jj,ii+1] == 0:\n",
    "                contour_masked_above[jj,ii+1] = -100\n",
    "            if contour_masked_above[jj+1,ii+1] == 0:\n",
    "                contour_masked_above[jj+1,ii+1] = -100"
   ]
  },
  {
   "cell_type": "code",
   "execution_count": 128,
   "id": "6c8e6248-243c-465c-bfd1-0b2ca2fe4566",
   "metadata": {},
   "outputs": [
    {
     "data": {
      "text/plain": [
       "<matplotlib.collections.QuadMesh at 0x14c8a87df1f0>"
      ]
     },
     "execution_count": 128,
     "metadata": {},
     "output_type": "execute_result"
    },
    {
     "data": {
      "image/png": "[encoded data removed]",
      "text/plain": [
       "<Figure size 972x648 with 2 Axes>"
      ]
     },
     "metadata": {
      "needs_background": "light"
     },
     "output_type": "display_data"
    }
   ],
   "source": [
    "b = xr.DataArray(contour_masked_above)\n",
    "b.plot(size= 9, vmin=-1, vmax=1)"
   ]
  },
  {
   "cell_type": "code",
   "execution_count": 129,
   "id": "836cf5c2-ebe0-42cc-8001-30d70cee3b29",
   "metadata": {},
   "outputs": [],
   "source": [
    "shelf_mask_1 = xr.where(b==-100, np.nan, 1)"
   ]
  },
  {
   "cell_type": "code",
   "execution_count": 130,
   "id": "24b5e1f7-c4e9-4bd7-b7a8-a8161191559e",
   "metadata": {},
   "outputs": [],
   "source": [
    "shelf_mask_2 = shelf_mask_1.rename({'dim_0':'yu_ocean', 'dim_1':'xu_ocean'})\n",
    "shelf_mask_2['xu_ocean'] = xu_ocean\n",
    "shelf_mask_2['yu_ocean'] = yu_ocean"
   ]
  },
  {
   "cell_type": "code",
   "execution_count": 131,
   "id": "7421c039-5039-4064-ac4d-74bcef0318a0",
   "metadata": {},
   "outputs": [
    {
     "data": {
      "text/plain": [
       "<matplotlib.collections.QuadMesh at 0x14c8a8617550>"
      ]
     },
     "execution_count": 131,
     "metadata": {},
     "output_type": "execute_result"
    },
    {
     "data": {
      "image/png": "[encoded data removed]",
      "text/plain": [
       "<Figure size 432x288 with 2 Axes>"
      ]
     },
     "metadata": {
      "needs_background": "light"
     },
     "output_type": "display_data"
    }
   ],
   "source": [
    "shelf_mask_2.plot()"
   ]
  },
  {
   "cell_type": "code",
   "execution_count": 135,
   "id": "e2293006-5250-4e5b-b53e-31184f84ce45",
   "metadata": {},
   "outputs": [],
   "source": [
    "hu_01 = xr.open_dataset('/g/data/ik11/outputs/access-om2-01/01deg_jra55v13_ryf9091/output000/ocean/ocean_grid.nc').sel(yu_ocean = shelf_mask_2['yu_ocean'])"
   ]
  },
  {
   "cell_type": "code",
   "execution_count": 138,
   "id": "8899dcd3-13a0-41a0-b542-129d2c08576e",
   "metadata": {},
   "outputs": [],
   "source": [
    "shelf_mask_3 = xr.where(np.isnan(hu_01['hu']), np.nan, shelf_mask_2)"
   ]
  },
  {
   "cell_type": "code",
   "execution_count": 140,
   "id": "f3129d89-aabd-4391-9e5b-40898467a807",
   "metadata": {},
   "outputs": [],
   "source": [
    "shelf_mask_3.to_netcdf('../data/shelf_mask_1500misobath.nc')"
   ]
  },
  {
   "cell_type": "code",
   "execution_count": 142,
   "id": "85de0451-f01b-4dbd-a781-13eead049b25",
   "metadata": {},
   "outputs": [
    {
     "data": {
      "text/plain": [
       "<matplotlib.collections.QuadMesh at 0x14c8a82385e0>"
      ]
     },
     "execution_count": 142,
     "metadata": {},
     "output_type": "execute_result"
    },
    {
     "data": {
      "image/png": "[encoded data removed]",
      "text/plain": [
       "<Figure size 432x288 with 2 Axes>"
      ]
     },
     "metadata": {
      "needs_background": "light"
     },
     "output_type": "display_data"
    }
   ],
   "source": [
    "shelf_mask_3.plot()"
   ]
  },
  {
   "cell_type": "code",
   "execution_count": null,
   "id": "d9f29fb9-d45e-4c0b-84b1-7f5cd5d41ff2",
   "metadata": {},
   "outputs": [],
   "source": []
  }
 ],
 "metadata": {
  "kernelspec": {
   "display_name": "Python [conda env:analysis3-21.04]",
   "language": "python",
   "name": "conda-env-analysis3-21.04-py"
  },
  "language_info": {
   "codemirror_mode": {
    "name": "ipython",
    "version": 3
   },
   "file_extension": ".py",
   "mimetype": "text/x-python",
   "name": "python",
   "nbconvert_exporter": "python",
   "pygments_lexer": "ipython3",
   "version": "3.8.10"
  }
 },
 "nbformat": 4,
 "nbformat_minor": 5
}
